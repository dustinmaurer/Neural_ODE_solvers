{
 "cells": [
  {
   "cell_type": "code",
   "execution_count": 3,
   "metadata": {},
   "outputs": [
    {
     "name": "stderr",
     "output_type": "stream",
     "text": [
      "C:\\Users\\Admin\\AppData\\Local\\Temp\\ipykernel_49816\\3110185248.py:34: UserWarning: frames=None which we can infer the length of, did not pass an explicit *save_count* and passed cache_frame_data=True.  To avoid a possibly unbounded cache, frame data caching has been disabled. To suppress this warning either pass `cache_frame_data=False` or `save_count=MAX_FRAMES`.\n",
      "  ani = FuncAnimation(fig, update, interval=50, blit=True)\n"
     ]
    },
    {
     "data": {
      "application/vnd.jupyter.widget-view+json": {
       "model_id": "99b3b96dd1fa4a269735e293a86bd258",
       "version_major": 2,
       "version_minor": 0
      },
      "text/plain": [
       "Button(description='Pause', style=ButtonStyle())"
      ]
     },
     "metadata": {},
     "output_type": "display_data"
    },
    {
     "data": {
      "image/png": "[encoded data removed]",
      "text/plain": [
       "<Figure size 640x480 with 1 Axes>"
      ]
     },
     "metadata": {},
     "output_type": "display_data"
    }
   ],
   "source": [
    "import matplotlib.pyplot as plt\n",
    "from matplotlib.patches import Circle\n",
    "from matplotlib.animation import FuncAnimation\n",
    "import numpy as np\n",
    "import ipywidgets as widgets\n",
    "from IPython.display import display\n",
    "\n",
    "# Initialize figure and axis\n",
    "fig, ax = plt.subplots()\n",
    "ax.set_xlim(0, 10)\n",
    "ax.set_ylim(0, 10)\n",
    "\n",
    "# Single circle: starts at (5, 5), radius 0.5\n",
    "circle = Circle((5, 5), radius=0.5, color='blue')\n",
    "ax.add_patch(circle)\n",
    "\n",
    "# Animation parameters\n",
    "noise_sigma = 0.1  # Strength of Brownian motion\n",
    "running = True  # Animation state\n",
    "\n",
    "# Animation update function\n",
    "def update(frame):\n",
    "    if running:\n",
    "        # Get current position\n",
    "        x, y = circle.center\n",
    "        # Apply Brownian motion\n",
    "        x += np.random.normal(0, noise_sigma)\n",
    "        y += np.random.normal(0, noise_sigma)\n",
    "        # Update circle position\n",
    "        circle.center = (x, y)\n",
    "    return [circle]\n",
    "\n",
    "# Animation setup\n",
    "ani = FuncAnimation(fig, update, interval=50, blit=True)\n",
    "\n",
    "# Button callback\n",
    "def toggle_animation(button):\n",
    "    global running\n",
    "    running = not running\n",
    "    button.description = \"Resume\" if not running else \"Pause\"\n",
    "\n",
    "# Create and display button\n",
    "button = widgets.Button(description=\"Pause\")\n",
    "button.on_click(toggle_animation)\n",
    "display(button)\n",
    "\n",
    "# Show plot\n",
    "plt.show()"
   ]
  },
  {
   "cell_type": "code",
   "execution_count": null,
   "metadata": {},
   "outputs": [],
   "source": []
  }
 ],
 "metadata": {
  "kernelspec": {
   "display_name": "venv",
   "language": "python",
   "name": "python3"
  },
  "language_info": {
   "codemirror_mode": {
    "name": "ipython",
    "version": 3
   },
   "file_extension": ".py",
   "mimetype": "text/x-python",
   "name": "python",
   "nbconvert_exporter": "python",
   "pygments_lexer": "ipython3",
   "version": "3.11.9"
  }
 },
 "nbformat": 4,
 "nbformat_minor": 2
}
